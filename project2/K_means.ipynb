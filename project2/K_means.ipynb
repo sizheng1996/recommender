{
 "cells": [
  {
   "cell_type": "code",
   "execution_count": 284,
   "metadata": {},
   "outputs": [
    {
     "name": "stdout",
     "output_type": "stream",
     "text": [
      "The autoreload extension is already loaded. To reload it, use:\n",
      "  %reload_ext autoreload\n"
     ]
    }
   ],
   "source": [
    "# Useful starting lines\n",
    "%matplotlib inline\n",
    "\n",
    "import numpy as np\n",
    "import scipy\n",
    "import scipy.io\n",
    "import scipy.sparse as sp\n",
    "import matplotlib.pyplot as plt\n",
    "from helpers import *\n",
    "import csv\n",
    "\n",
    "%load_ext autoreload\n",
    "%autoreload 2"
   ]
  },
  {
   "cell_type": "markdown",
   "metadata": {},
   "source": [
    "## Load the Data\n",
    "Note that `ratings` is a sparse matrix that in the shape of (num_items, num_users)"
   ]
  },
  {
   "cell_type": "code",
   "execution_count": 285,
   "metadata": {},
   "outputs": [
    {
     "name": "stdout",
     "output_type": "stream",
     "text": [
      "number of items: 10000, number of users: 1000\n",
      "number of items: 10000, number of users: 1000\n"
     ]
    }
   ],
   "source": [
    "path_dataset = \"47b05e70-6076-44e8-96da-2530dc2187de_data_train.csv\"\n",
    "path_submission = \"9b4d32bb-f99a-466f-95a1-0ab80048971c_sample_submission (2).csv\"\n",
    "ratings = load_data(path_dataset)\n",
    "ratings_=ratings.toarray()#transform type from sparse matrix to np.array\n",
    "test=load_data(path_submission)\n",
    "submission = load_submission(path_submission)\n",
    "submission_row_col = submission[0]\n",
    "submission_pos = submission[1]"
   ]
  },
  {
   "cell_type": "markdown",
   "metadata": {},
   "source": [
    "### Plot the number of ratings per movie and user"
   ]
  },
  {
   "cell_type": "code",
   "execution_count": 286,
   "metadata": {
    "scrolled": true
   },
   "outputs": [
    {
     "data": {
      "image/png": "[encoded data removed]",
      "text/plain": [
       "<Figure size 432x288 with 2 Axes>"
      ]
     },
     "metadata": {},
     "output_type": "display_data"
    },
    {
     "name": "stdout",
     "output_type": "stream",
     "text": [
      "min # of items per user = 8, min # of users per item = 3.\n"
     ]
    }
   ],
   "source": [
    "from plots import *\n",
    "\n",
    "num_items_per_user, num_users_per_item = plot_raw_data(ratings)\n",
    "num_item, num_user = ratings.get_shape()\n",
    "\n",
    "print(\"min # of items per user = {}, min # of users per item = {}.\".format(\n",
    "        min(num_items_per_user), min(num_users_per_item)))"
   ]
  },
  {
   "cell_type": "markdown",
   "metadata": {},
   "source": [
    "### Extract mean ratings for each user"
   ]
  },
  {
   "cell_type": "code",
   "execution_count": 287,
   "metadata": {},
   "outputs": [],
   "source": [
    "def extract_user_mean(train,ratings):#maybe useful in prediction\n",
    "    user_nnz = train.getnnz(axis=0)\n",
    "    user_sum = train.sum(axis=0)\n",
    "    user_mean = np.empty((1, num_user))\n",
    "    for ind in range(num_user):\n",
    "        user_mean[0,ind] = user_sum[0,ind] / user_nnz[ind]\n",
    "        user_ind=ratings[:,ind]\n",
    "        user_ind[user_ind==0]=user_mean[0,ind]\n",
    "        ratings[:,ind]=user_ind\n",
    "    return ratings"
   ]
  },
  {
   "cell_type": "markdown",
   "metadata": {},
   "source": [
    "### Distance matrix"
   ]
  },
  {
   "cell_type": "markdown",
   "metadata": {},
   "source": [
    "def build_distance_matrix(train, u):\n",
    "    distance_list = []\n",
    "    _, K= u.shape\n",
    "    for k in range(K):\n",
    "        sum_squares = np.sum(np.square(train.T - u[:, k]), axis=1)\n",
    "        distance_list.append(sum_squares)\n",
    "    return np.array(distance_list).T"
   ]
  },
  {
   "cell_type": "markdown",
   "metadata": {},
   "source": [
    "### Initialization"
   ]
  },
  {
   "cell_type": "code",
   "execution_count": 288,
   "metadata": {},
   "outputs": [],
   "source": [
    "def initialize_u(train,K):\n",
    "    u_initial = (train.T[np.random.choice(num_user, K)]).T\n",
    "    return u_initial\n"
   ]
  },
  {
   "cell_type": "markdown",
   "metadata": {},
   "source": [
    "### Update z and u"
   ]
  },
  {
   "cell_type": "code",
   "execution_count": 289,
   "metadata": {},
   "outputs": [],
   "source": [
    "def update_z(u,K,train):\n",
    "    #nz_train, nz_item_userindices, nz_user_itemindices = build_index_groups(train)\n",
    "    z = np.zeros((K,num_user))\n",
    "    loss = []\n",
    "    for n in range(num_user):#here\n",
    "        inv = np.empty((1,K))\n",
    "        valid_items = np.where(train[:,n]>0)\n",
    "        for k in range(K):\n",
    "            inv[0,k] = np.mean(np.square(train[valid_items,n]-u[valid_items,k]))# this decide how we deal with zeros\n",
    "        znk=np.nanargmin(inv,axis=1)\n",
    "        loss.append(np.nanmin(inv)) \n",
    "        \n",
    "        z[znk,n]=1\n",
    "    return z,loss\n",
    "\n",
    "def update_u(z,K,train):\n",
    "    u = np.zeros((num_item,K))\n",
    "    for k in range(K):\n",
    "        sum=np.zeros((num_item,1))\n",
    "        for n in range(num_user):\n",
    "            sum=sum+z[k,n]*train[:,n]\n",
    "        u[:,k]=sum[1]/np.sum((z[k,:]))\n",
    "    return u\n",
    "\n"
   ]
  },
  {
   "cell_type": "markdown",
   "metadata": {},
   "source": [
    "def update_kmeans_uz_parameters(train, u_old):\n",
    "    D,_= train.shape\n",
    "    _,K = u_old.shape\n",
    "    z = np.zeros((K,num_user))\n",
    "    distance_matrix = build_distance_matrix(train, u_old)\n",
    "    losses = np.min(distance_matrix, axis=1)\n",
    "    assignments = np.argmin(distance_matrix, axis=1)\n",
    "    # update the u\n",
    "    u = np.empty((num_item, K))\n",
    "    for k in range(K):\n",
    "        users = np.where(assignments == k)\n",
    "        u[:,k] = np.mean(np.squeeze(train.T[users,:]), axis=0)\n",
    "    return losses, assignments, np.nan_to_num(u)"
   ]
  },
  {
   "cell_type": "code",
   "execution_count": null,
   "metadata": {},
   "outputs": [],
   "source": [
    "def kmeans_demo(ratings,ratings_):\n",
    "    # init some empty lists to store the result.\n",
    "    loss_list = []\n",
    "    max_iters = 10\n",
    "# K_range = [4,6,8,10,14,12,14,16,18,20,22,24]\n",
    "    K=4\n",
    "    threshold=1e-5\n",
    "   # x_predict = np.zeros((num_item,num_user))\n",
    "   # train= extract_user_mean(ratings,ratings2)\n",
    "  #  for K in set(K_range):\n",
    "    # initialize the cluster.\n",
    "    u_old = initialize_u(ratings, K)\n",
    "    u_old = u_old.toarray()\n",
    "    \n",
    "    # start the kmeans algorithm.\n",
    "    for i in range(max_iters):\n",
    "        # update z and mu\n",
    "        z,loss = update_z(u_old,K,ratings_)\n",
    "        u = update_u(z,K,ratings_)\n",
    "        # calculate the average loss over all points\n",
    "        average_loss = np.mean(loss)\n",
    "        loss_list.append(average_loss)\n",
    "        print(\"The current iteration of k-means is: {m}, the average loss is {l}.\".format(m=i, l=average_loss))\n",
    "        # check converge\n",
    "        if i > 0 and np.abs(loss_list[-1] - loss_list[-2]) < threshold:\n",
    "            break\n",
    "        # output plot\n",
    "       # print(len(u),u_old.shape[0])\n",
    "        #plot_kmeans(train, u, u_old, output_figure + \"kmean_iter{m}\".format(m=i))\n",
    "        # update k-means information.\n",
    "        u_old = u\n",
    "   # x_predict=x_predict+u.dot(z)\n",
    "   # x_final=x_predict/len(K_range)\n",
    "    return z,u\n",
    "\n",
    "z,u = kmeans_demo(ratings,ratings_) "
   ]
  },
  {
   "cell_type": "code",
   "execution_count": null,
   "metadata": {},
   "outputs": [],
   "source": [
    "nz_train, nz_item_userindices, nz_user_itemindices = build_index_groups(test)"
   ]
  },
  {
   "cell_type": "code",
   "execution_count": null,
   "metadata": {},
   "outputs": [],
   "source": [
    "predictions=[]\n",
    "i=0\n",
    "for user, items in nz_user_itemindices:\n",
    "    K = (np.where(z[:,user]==1))[0]\n",
    "    group_users = (np.where (z[K,:]==1))[1]\n",
    "    for item in items:\n",
    "        group_ratings=ratings_[item, group_users]  \n",
    "        group_valid_ratings = (group_ratings[np.where(group_ratings>0)]).astype(int)\n",
    "        counts=np.bincount(group_valid_ratings)\n",
    "        max_=max(counts)\n",
    "        value_pred=np.mean(np.where(counts==max_))\n",
    "        if value_pred < 1:\n",
    "            value_pred = 1\n",
    "        elif value_pred > 5:\n",
    "            value_pred = 5\n",
    "        else:\n",
    "            value_pred = round(value_pred)\n",
    "        predictions.append(value_pred) \n"
   ]
  },
  {
   "cell_type": "code",
   "execution_count": null,
   "metadata": {},
   "outputs": [],
   "source": [
    "create_csv_submission(submission_pos,predictions, \"kmeans.csv\")"
   ]
  },
  {
   "cell_type": "code",
   "execution_count": null,
   "metadata": {},
   "outputs": [],
   "source": []
  }
 ],
 "metadata": {
  "anaconda-cloud": {},
  "kernelspec": {
   "display_name": "Python 3",
   "language": "python",
   "name": "python3"
  },
  "language_info": {
   "codemirror_mode": {
    "name": "ipython",
    "version": 3
   },
   "file_extension": ".py",
   "mimetype": "text/x-python",
   "name": "python",
   "nbconvert_exporter": "python",
   "pygments_lexer": "ipython3",
   "version": "3.6.5"
  }
 },
 "nbformat": 4,
 "nbformat_minor": 1
}
